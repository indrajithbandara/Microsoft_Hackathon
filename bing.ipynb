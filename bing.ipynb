{
 "cells": [
  {
   "cell_type": "code",
   "execution_count": 1,
   "metadata": {
    "collapsed": false
   },
   "outputs": [
    {
     "name": "stderr",
     "output_type": "stream",
     "text": [
      "C:\\Users\\Abhishek\\Anaconda2\\lib\\site-packages\\matplotlib\\__init__.py:872: UserWarning: axes.color_cycle is deprecated and replaced with axes.prop_cycle; please use the latter.\n",
      "  warnings.warn(self.msg_depr % (key, alt_key))\n"
     ]
    }
   ],
   "source": [
    "# import external libraries\n",
    "\n",
    "import pandas as pd\n",
    "import numpy as np\n",
    "\n",
    "import matplotlib.pyplot as plt\n",
    "import seaborn as sns\n",
    "\n",
    "from sklearn.metrics import accuracy_score\n",
    "\n",
    "%matplotlib inline"
   ]
  },
  {
   "cell_type": "code",
   "execution_count": 2,
   "metadata": {
    "collapsed": true
   },
   "outputs": [],
   "source": [
    "# load training and test data set\n",
    "training = pd.read_table('./data/BingHackathonTrainingData.txt', sep='\\t', header=None)\n",
    "test = pd.read_table('./data/BingHackathonTestData.txt', sep='\\t', header=None)\n",
    "\n",
    "training = training[range(0,  6)]\n",
    "test = test[range(0, 6)]"
   ]
  },
  {
   "cell_type": "code",
   "execution_count": 3,
   "metadata": {
    "collapsed": false
   },
   "outputs": [],
   "source": [
    "training = training.rename(columns={0: 'record_id', 1: 'topic_id', 2: 'publication_year', 3: 'authors', 4: 'title', 5: 'summary'})\n",
    "test = test.rename(columns={0: 'record_id', 1: 'topic_id', 2: 'publication_year', 3: 'authors', 4: 'title', 5: 'summary'})"
   ]
  },
  {
   "cell_type": "code",
   "execution_count": 4,
   "metadata": {
    "collapsed": false
   },
   "outputs": [
    {
     "data": {
      "image/png": "[encoded data removed]",
      "text/plain": [
       "<matplotlib.figure.Figure at 0x1c2f6a20>"
      ]
     },
     "metadata": {},
     "output_type": "display_data"
    }
   ],
   "source": [
    "training.publication_year.value_counts().sort_index().plot(kind='barh');"
   ]
  },
  {
   "cell_type": "code",
   "execution_count": 5,
   "metadata": {
    "collapsed": false
   },
   "outputs": [],
   "source": [
    "s = training.groupby(['publication_year', 'topic_id']).size()\n",
    "s = s.unstack(1)"
   ]
  },
  {
   "cell_type": "code",
   "execution_count": 6,
   "metadata": {
    "collapsed": false
   },
   "outputs": [
    {
     "data": {
      "image/png": "[encoded data removed]",
      "text/plain": [
       "<matplotlib.figure.Figure at 0x1f47db70>"
      ]
     },
     "metadata": {},
     "output_type": "display_data"
    }
   ],
   "source": [
    "plt.plot(s.index.values, s[0], c='r', label='Topic 0')\n",
    "plt.plot(s.index.values, s[1], c='g', label='Topic 1')\n",
    "plt.plot(s.index.values, s[2], c='b', label='Topic 2')\n",
    "\n",
    "plt.legend(loc='best')\n",
    "plt.show();"
   ]
  },
  {
   "cell_type": "code",
   "execution_count": 7,
   "metadata": {
    "collapsed": false
   },
   "outputs": [],
   "source": [
    "import re\n",
    "\n",
    "def remove_periods(summary_text):\n",
    "    return re.sub(\"[.]\", \" \", summary_text)\n",
    "    \n",
    "summary_train = training.summary.apply(remove_periods)\n",
    "summary_test = test.summary.apply(remove_periods)"
   ]
  },
  {
   "cell_type": "code",
   "execution_count": 8,
   "metadata": {
    "collapsed": true
   },
   "outputs": [],
   "source": [
    "y = training.topic_id"
   ]
  },
  {
   "cell_type": "code",
   "execution_count": 9,
   "metadata": {
    "collapsed": false
   },
   "outputs": [],
   "source": [
    "from sklearn.feature_extraction.text import CountVectorizer, TfidfVectorizer\n",
    "from sklearn.decomposition import TruncatedSVD\n",
    "from sklearn.cross_validation import train_test_split"
   ]
  },
  {
   "cell_type": "code",
   "execution_count": 11,
   "metadata": {
    "collapsed": false
   },
   "outputs": [],
   "source": [
    "X_train, X_test, y_train, y_test = train_test_split(summary_train.values, y, test_size=0.2, random_state=44)"
   ]
  },
  {
   "cell_type": "code",
   "execution_count": 12,
   "metadata": {
    "collapsed": false
   },
   "outputs": [
    {
     "name": "stdout",
     "output_type": "stream",
     "text": [
      "(3598L,) (900L,) (3598L,) (900L,)\n"
     ]
    }
   ],
   "source": [
    "print X_train.shape, X_test.shape, y_train.shape, y_test.shape"
   ]
  },
  {
   "cell_type": "code",
   "execution_count": 13,
   "metadata": {
    "collapsed": true
   },
   "outputs": [],
   "source": [
    "from sklearn.naive_bayes import MultinomialNB, GaussianNB\n",
    "from sklearn.feature_selection import chi2, SelectKBest\n",
    "\n",
    "from sklearn.linear_model import LogisticRegression\n",
    "from sklearn.ensemble import RandomForestClassifier\n",
    "\n",
    "from sklearn.pipeline import Pipeline"
   ]
  },
  {
   "cell_type": "code",
   "execution_count": 17,
   "metadata": {
    "collapsed": true
   },
   "outputs": [],
   "source": [
    "nb = MultinomialNB(alpha=10)\n",
    "count_vect = CountVectorizer(ngram_range=(1, 1))\n",
    "truncated_svd = TruncatedSVD(n_components=250)\n",
    "\n",
    "# featureSelection = SelectKBest(chi2, k=200)\n",
    "pipeline_naive_bayes = Pipeline([('count_vect', count_vect),('svd', truncated_svd), ('naive_bayes', nb)])"
   ]
  },
  {
   "cell_type": "code",
   "execution_count": 31,
   "metadata": {
    "collapsed": false
   },
   "outputs": [],
   "source": [
    "logistic_regression = LogisticRegression(C=0.01)\n",
    "count_vect = CountVectorizer(ngram_range=(1, 1))\n",
    "truncated_svd = TruncatedSVD(n_components=250)\n",
    "\n",
    "pipeline_log_reg = Pipeline([('count_vect', count_vect),('svd', truncated_svd), ('log_reg', logistic_regression)])"
   ]
  },
  {
   "cell_type": "code",
   "execution_count": 22,
   "metadata": {
    "collapsed": true
   },
   "outputs": [],
   "source": [
    "# rf = RandomForestClassifier(n_estimators=100)\n",
    "# featureSelection = SelectKBest(chi2, k=200)\n",
    "\n",
    "# pipeline_rf = Pipeline([('feature_selction', featureSelection), ('rf', rf)])"
   ]
  },
  {
   "cell_type": "code",
   "execution_count": 32,
   "metadata": {
    "collapsed": false
   },
   "outputs": [
    {
     "data": {
      "text/plain": [
       "Pipeline(steps=[('count_vect', CountVectorizer(analyzer=u'word', binary=False, decode_error=u'strict',\n",
       "        dtype=<type 'numpy.int64'>, encoding=u'utf-8', input=u'content',\n",
       "        lowercase=True, max_df=1.0, max_features=None, min_df=1,\n",
       "        ngram_range=(1, 1), preprocessor=None, stop_words=None,\n",
       "    ...',\n",
       "          penalty='l2', random_state=None, solver='liblinear', tol=0.0001,\n",
       "          verbose=0))])"
      ]
     },
     "execution_count": 32,
     "metadata": {},
     "output_type": "execute_result"
    }
   ],
   "source": [
    "# fit these two models\n",
    "\n",
    "# pipeline_naive_bayes.fit(X_train, y_train)\n",
    "pipeline_log_reg.fit(X_train, y_train)\n",
    "# pipeline_rf.fit(X_train, y_train)"
   ]
  },
  {
   "cell_type": "code",
   "execution_count": 33,
   "metadata": {
    "collapsed": true
   },
   "outputs": [],
   "source": [
    "# predictions\n",
    "\n",
    "# predsTrain_NB = pipeline_naive_bayes.predict(X_train.toarray())\n",
    "predsTrain_LR = pipeline_log_reg.predict(X_train)\n",
    "# predsTrain_RF = pipeline_rf.predict(X_train)\n",
    "\n",
    "# predsTest_NB = pipeline_naive_bayes.predict(X_test.toarray())\n",
    "predsTest_LR = pipeline_log_reg.predict(X_test)\n",
    "# predsTest_RF = pipeline_rf.predict(X_test)"
   ]
  },
  {
   "cell_type": "code",
   "execution_count": 34,
   "metadata": {
    "collapsed": false
   },
   "outputs": [
    {
     "name": "stdout",
     "output_type": "stream",
     "text": [
      "Accuracy on the training examples for Logistic Regression 0.689550 \n",
      "Accuracy on the test examples for Logistic Regression 0.682222 \n"
     ]
    }
   ],
   "source": [
    "# print 'Accuracy on the training examples for Naive Bayes %f ' %(accuracy_score(y_train, predsTrain_NB))\n",
    "# print 'Accuracy on the test examples for Naive Bayes %f ' %(accuracy_score(y_test, predsTest_NB))\n",
    "\n",
    "# print '\\n\\n'\n",
    "print 'Accuracy on the training examples for Logistic Regression %f ' %(accuracy_score(y_train, predsTrain_LR))\n",
    "print 'Accuracy on the test examples for Logistic Regression %f ' %(accuracy_score(y_test, predsTest_LR))\n",
    "\n",
    "# print '\\n\\n'\n",
    "# print 'Accuracy on the training examples for Random Forest Classifier %f ' %(accuracy_score(y_train, predsTrain_RF))\n",
    "# print 'Accuracy on the test examples for Random Forest Classifier %f ' %(accuracy_score(y_test, predsTest_RF))"
   ]
  },
  {
   "cell_type": "code",
   "execution_count": null,
   "metadata": {
    "collapsed": true
   },
   "outputs": [],
   "source": []
  },
  {
   "cell_type": "code",
   "execution_count": null,
   "metadata": {
    "collapsed": true
   },
   "outputs": [],
   "source": []
  },
  {
   "cell_type": "code",
   "execution_count": null,
   "metadata": {
    "collapsed": true
   },
   "outputs": [],
   "source": []
  },
  {
   "cell_type": "code",
   "execution_count": null,
   "metadata": {
    "collapsed": true
   },
   "outputs": [],
   "source": []
  }
 ],
 "metadata": {
  "kernelspec": {
   "display_name": "Python 2",
   "language": "python",
   "name": "python2"
  },
  "language_info": {
   "codemirror_mode": {
    "name": "ipython",
    "version": 2
   },
   "file_extension": ".py",
   "mimetype": "text/x-python",
   "name": "python",
   "nbconvert_exporter": "python",
   "pygments_lexer": "ipython2",
   "version": "2.7.11"
  }
 },
 "nbformat": 4,
 "nbformat_minor": 0
}
