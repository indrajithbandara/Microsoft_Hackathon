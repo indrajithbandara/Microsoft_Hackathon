{
 "cells": [
  {
   "cell_type": "code",
   "execution_count": 49,
   "metadata": {
    "collapsed": false
   },
   "outputs": [],
   "source": [
    "# import external libraries\n",
    "\n",
    "import pandas as pd\n",
    "import numpy as np\n",
    "\n",
    "import matplotlib.pyplot as plt\n",
    "import seaborn as sns\n",
    "\n",
    "import re\n",
    "\n",
    "from sklearn.metrics import mean_squared_error\n",
    "\n",
    "from sklearn.linear_model import LinearRegression\n",
    "from sklearn.ensemble import RandomForestRegressor\n",
    "from sklearn.svm import SVR\n",
    "\n",
    "from sklearn.preprocessing import StandardScaler\n",
    "\n",
    "import xgboost as xgb\n",
    "\n",
    "from sklearn.pipeline import Pipeline\n",
    "\n",
    "%matplotlib inline"
   ]
  },
  {
   "cell_type": "code",
   "execution_count": 2,
   "metadata": {
    "collapsed": true
   },
   "outputs": [],
   "source": [
    "%run scripts/features.py"
   ]
  },
  {
   "cell_type": "code",
   "execution_count": 3,
   "metadata": {
    "collapsed": true
   },
   "outputs": [],
   "source": [
    "# load training and test data set\n",
    "training = pd.read_table('./data/BingHackathonTrainingData.txt', sep='\\t', header=None)\n",
    "test = pd.read_table('./data/BingHackathonTestData.txt', sep='\\t', header=None)\n",
    "\n",
    "training = training[range(0,  6)]\n",
    "test = test[range(0, 6)]"
   ]
  },
  {
   "cell_type": "code",
   "execution_count": 4,
   "metadata": {
    "collapsed": true
   },
   "outputs": [],
   "source": [
    "training = training.rename(columns={0: 'record_id', 1: 'topic_id', 2: 'publication_year', 3: 'authors', 4: 'title', 5: 'summary'})\n",
    "test = test.rename(columns={0: 'record_id', 1: 'topic_id', 2: 'publication_year', 3: 'authors', 4: 'title', 5: 'summary'})"
   ]
  },
  {
   "cell_type": "code",
   "execution_count": 5,
   "metadata": {
    "collapsed": true
   },
   "outputs": [],
   "source": [
    "# response variable\n",
    "y = training.publication_year"
   ]
  },
  {
   "cell_type": "code",
   "execution_count": 6,
   "metadata": {
    "collapsed": true
   },
   "outputs": [],
   "source": [
    "from sklearn.cross_validation import train_test_split"
   ]
  },
  {
   "cell_type": "code",
   "execution_count": 7,
   "metadata": {
    "collapsed": true
   },
   "outputs": [],
   "source": [
    "X_train, X_test, y_train, y_test = train_test_split(training, y, test_size=0.2, random_state=44)"
   ]
  },
  {
   "cell_type": "code",
   "execution_count": 8,
   "metadata": {
    "collapsed": false
   },
   "outputs": [
    {
     "name": "stdout",
     "output_type": "stream",
     "text": [
      "(3598, 6) (900, 6) (3598L,) (900L,)\n"
     ]
    }
   ],
   "source": [
    "print X_train.shape, X_test.shape, y_train.shape, y_test.shape"
   ]
  },
  {
   "cell_type": "code",
   "execution_count": 50,
   "metadata": {
    "collapsed": true
   },
   "outputs": [],
   "source": [
    "ft = FeatureTransformer()\n",
    "scaler = StandardScaler()\n",
    "linear_regression = LinearRegression()\n",
    "\n",
    "pipeline_reg = Pipeline([('ft', ft), ('scaler', scaler), ('reg', linear_regression)])"
   ]
  },
  {
   "cell_type": "code",
   "execution_count": 51,
   "metadata": {
    "collapsed": true
   },
   "outputs": [],
   "source": [
    "ft = FeatureTransformer()\n",
    "rf_regressor = RandomForestRegressor(n_estimators=100, n_jobs=-1)\n",
    "\n",
    "pipeline_rf = Pipeline([('ft', ft), ('rf', rf_regressor)])"
   ]
  },
  {
   "cell_type": "code",
   "execution_count": 62,
   "metadata": {
    "collapsed": false
   },
   "outputs": [],
   "source": [
    "ft = FeatureTransformer()\n",
    "extreme_gradient_boosting_regressor = xgb.XGBRegressor(n_estimators=500, max_depth=4, learning_rate=0.1, min_child_weight=2)\n",
    "\n",
    "pipeline_xgb = Pipeline([('ft', ft), ('xgb', extreme_gradient_boosting_regressor)])"
   ]
  },
  {
   "cell_type": "code",
   "execution_count": 52,
   "metadata": {
    "collapsed": false
   },
   "outputs": [
    {
     "data": {
      "text/plain": [
       "Pipeline(steps=[('ft', FeatureTransformer()), ('scaler', StandardScaler(copy=True, with_mean=True, with_std=True)), ('reg', LinearRegression(copy_X=True, fit_intercept=True, n_jobs=1, normalize=False))])"
      ]
     },
     "execution_count": 52,
     "metadata": {},
     "output_type": "execute_result"
    }
   ],
   "source": [
    "# train a linear regression model\n",
    "\n",
    "pipeline_reg.fit(X_train, y_train)"
   ]
  },
  {
   "cell_type": "code",
   "execution_count": 53,
   "metadata": {
    "collapsed": false
   },
   "outputs": [
    {
     "data": {
      "text/plain": [
       "Pipeline(steps=[('ft', FeatureTransformer()), ('rf', RandomForestRegressor(bootstrap=True, criterion='mse', max_depth=None,\n",
       "           max_features='auto', max_leaf_nodes=None, min_samples_leaf=1,\n",
       "           min_samples_split=2, min_weight_fraction_leaf=0.0,\n",
       "           n_estimators=100, n_jobs=-1, oob_score=False, random_state=None,\n",
       "           verbose=0, warm_start=False))])"
      ]
     },
     "execution_count": 53,
     "metadata": {},
     "output_type": "execute_result"
    }
   ],
   "source": [
    "# train a Random Forest Regression model\n",
    "\n",
    "pipeline_rf.fit(X_train, y_train)"
   ]
  },
  {
   "cell_type": "code",
   "execution_count": 63,
   "metadata": {
    "collapsed": false
   },
   "outputs": [
    {
     "data": {
      "text/plain": [
       "Pipeline(steps=[('ft', FeatureTransformer()), ('xgb', XGBRegressor(base_score=0.5, colsample_bylevel=1, colsample_bytree=1, gamma=0,\n",
       "       learning_rate=0.1, max_delta_step=0, max_depth=4,\n",
       "       min_child_weight=2, missing=None, n_estimators=500, nthread=-1,\n",
       "       objective='reg:linear', reg_alpha=0, reg_lambda=1,\n",
       "       scale_pos_weight=1, seed=0, silent=True, subsample=1))])"
      ]
     },
     "execution_count": 63,
     "metadata": {},
     "output_type": "execute_result"
    }
   ],
   "source": [
    "# train a Extreme Gradient Boosting Regression model\n",
    "\n",
    "pipeline_xgb.fit(X_train, y_train)"
   ]
  },
  {
   "cell_type": "code",
   "execution_count": 54,
   "metadata": {
    "collapsed": false
   },
   "outputs": [],
   "source": [
    "# predictions\n",
    "\n",
    "predsTrain_Linear = np.ceil(pipeline_reg.predict(X_train))\n",
    "predsTest_Linear = np.ceil(pipeline_reg.predict(X_test))"
   ]
  },
  {
   "cell_type": "code",
   "execution_count": 55,
   "metadata": {
    "collapsed": false
   },
   "outputs": [
    {
     "data": {
      "image/png": "[encoded data removed]",
      "text/plain": [
       "<matplotlib.figure.Figure at 0x20296588>"
      ]
     },
     "metadata": {},
     "output_type": "display_data"
    }
   ],
   "source": [
    "# Residual plots\n",
    "plt.scatter(predsTrain_Linear, predsTrain_Linear - y_train, c='b', s=40, alpha=0.5)\n",
    "plt.scatter(predsTest_Linear, predsTest_Linear - y_test, c='g', s=40)\n",
    "plt.title('Residual Plot using training (blue) and test (green) data')\n",
    "plt.ylabel('Residuals');"
   ]
  },
  {
   "cell_type": "code",
   "execution_count": 56,
   "metadata": {
    "collapsed": true
   },
   "outputs": [],
   "source": [
    "# predictions (RF)\n",
    "\n",
    "predsTrain_RF = np.ceil(pipeline_rf.predict(X_train))\n",
    "predsTest_RF = np.ceil(pipeline_rf.predict(X_test))"
   ]
  },
  {
   "cell_type": "code",
   "execution_count": 64,
   "metadata": {
    "collapsed": true
   },
   "outputs": [],
   "source": [
    "# predictions (XGB)\n",
    "\n",
    "predsTrain_XGB = np.ceil(pipeline_xgb.predict(X_train))\n",
    "predsTest_XGB = np.ceil(pipeline_xgb.predict(X_test))"
   ]
  },
  {
   "cell_type": "code",
   "execution_count": 70,
   "metadata": {
    "collapsed": true
   },
   "outputs": [],
   "source": [
    "# predictions (ensemble)\n",
    "\n",
    "predictionTrain_ensemble = (( 0.6 * pipeline_reg.predict(X_train) + 0.4 * pipeline_xgb.predict(X_train)))\n",
    "predictionTest_ensemble = (( 0.6 * pipeline_reg.predict(X_test) + 0.4 * pipeline_xgb.predict(X_test)))\n",
    "\n",
    "predictionTrain_ensemble = np.ceil(predictionTrain_ensemble)\n",
    "predictionTest_ensemble = np.ceil(predictionTest_ensemble)"
   ]
  },
  {
   "cell_type": "code",
   "execution_count": 38,
   "metadata": {
    "collapsed": false
   },
   "outputs": [
    {
     "name": "stdout",
     "output_type": "stream",
     "text": [
      "Root Mean Square Error on the training examples for Linear Regression 3.332092 \n",
      "Root Mean Square Error on the test examples for Linear Regression 3.433981 \n"
     ]
    }
   ],
   "source": [
    "print 'Root Mean Square Error on the training examples for Linear Regression %f ' %(np.sqrt(mean_squared_error(y_train, predsTrain_Linear)))\n",
    "print 'Root Mean Square Error on the test examples for Linear Regression %f ' %(np.sqrt(mean_squared_error(y_test, predsTest_Linear)))"
   ]
  },
  {
   "cell_type": "code",
   "execution_count": 57,
   "metadata": {
    "collapsed": false
   },
   "outputs": [
    {
     "name": "stdout",
     "output_type": "stream",
     "text": [
      "Root Mean Square Error on the training examples for RF 1.428877 \n",
      "Root Mean Square Error on the test examples for RF 3.527196 \n"
     ]
    }
   ],
   "source": [
    "print 'Root Mean Square Error on the training examples for RF %f ' %(np.sqrt(mean_squared_error(y_train, predsTrain_RF)))\n",
    "print 'Root Mean Square Error on the test examples for RF %f ' %(np.sqrt(mean_squared_error(y_test, predsTest_RF)))"
   ]
  },
  {
   "cell_type": "code",
   "execution_count": 65,
   "metadata": {
    "collapsed": false
   },
   "outputs": [
    {
     "name": "stdout",
     "output_type": "stream",
     "text": [
      "Root Mean Square Error on the training examples for XGBoost 1.039118 \n",
      "Root Mean Square Error on the test examples for XGBoost 3.464102 \n"
     ]
    }
   ],
   "source": [
    "print 'Root Mean Square Error on the training examples for XGBoost %f ' %(np.sqrt(mean_squared_error(y_train, predsTrain_XGB)))\n",
    "print 'Root Mean Square Error on the test examples for XGBoost %f ' %(np.sqrt(mean_squared_error(y_test, predsTest_XGB)))"
   ]
  },
  {
   "cell_type": "code",
   "execution_count": 71,
   "metadata": {
    "collapsed": false
   },
   "outputs": [
    {
     "name": "stdout",
     "output_type": "stream",
     "text": [
      "Root Mean Square Error on the training examples for ensemble 2.346511 \n",
      "Root Mean Square Error on the test examples for ensemble 3.423124 \n"
     ]
    }
   ],
   "source": [
    "print 'Root Mean Square Error on the training examples for ensemble %f ' %(np.sqrt(mean_squared_error(y_train, predictionTrain_ensemble)))\n",
    "print 'Root Mean Square Error on the test examples for ensemble %f ' %(np.sqrt(mean_squared_error(y_test, predictionTest_ensemble)))"
   ]
  },
  {
   "cell_type": "code",
   "execution_count": 72,
   "metadata": {
    "collapsed": false
   },
   "outputs": [
    {
     "data": {
      "text/plain": [
       "Pipeline(steps=[('ft', FeatureTransformer()), ('xgb', XGBRegressor(base_score=0.5, colsample_bylevel=1, colsample_bytree=1, gamma=0,\n",
       "       learning_rate=0.1, max_delta_step=0, max_depth=4,\n",
       "       min_child_weight=2, missing=None, n_estimators=500, nthread=-1,\n",
       "       objective='reg:linear', reg_alpha=0, reg_lambda=1,\n",
       "       scale_pos_weight=1, seed=0, silent=True, subsample=1))])"
      ]
     },
     "execution_count": 72,
     "metadata": {},
     "output_type": "execute_result"
    }
   ],
   "source": [
    "## fit on the whole dataset\n",
    "pipeline_reg.fit(training, y)\n",
    "pipeline_xgb.fit(training, y)"
   ]
  },
  {
   "cell_type": "code",
   "execution_count": 74,
   "metadata": {
    "collapsed": true
   },
   "outputs": [],
   "source": [
    "# predictions\n",
    "preds_linear = pipeline_reg.predict(test)\n",
    "preds_xgb = pipeline_xgb.predict(test)\n",
    "\n",
    "preds_ensemble = 0.6 * preds_linear + 0.4 * preds_xgb\n",
    "preds_ensemble = np.ceil(preds_ensemble)"
   ]
  },
  {
   "cell_type": "code",
   "execution_count": 77,
   "metadata": {
    "collapsed": false
   },
   "outputs": [],
   "source": [
    "# Submissions\n",
    "submission_df = pd.DataFrame({'record_id': test.record_id.values, 'year': preds_ensemble})"
   ]
  },
  {
   "cell_type": "code",
   "execution_count": 78,
   "metadata": {
    "collapsed": true
   },
   "outputs": [],
   "source": [
    "submission_df.to_csv('./submissions/second_regression.csv', sep='\\t', index=False)"
   ]
  },
  {
   "cell_type": "code",
   "execution_count": 64,
   "metadata": {
    "collapsed": false
   },
   "outputs": [
    {
     "data": {
      "text/plain": [
       "(1125, 2)"
      ]
     },
     "execution_count": 64,
     "metadata": {},
     "output_type": "execute_result"
    }
   ],
   "source": [
    "submission_df.shape"
   ]
  },
  {
   "cell_type": "code",
   "execution_count": null,
   "metadata": {
    "collapsed": true
   },
   "outputs": [],
   "source": []
  }
 ],
 "metadata": {
  "kernelspec": {
   "display_name": "Python 2",
   "language": "python",
   "name": "python2"
  },
  "language_info": {
   "codemirror_mode": {
    "name": "ipython",
    "version": 2
   },
   "file_extension": ".py",
   "mimetype": "text/x-python",
   "name": "python",
   "nbconvert_exporter": "python",
   "pygments_lexer": "ipython2",
   "version": "2.7.11"
  }
 },
 "nbformat": 4,
 "nbformat_minor": 0
}
